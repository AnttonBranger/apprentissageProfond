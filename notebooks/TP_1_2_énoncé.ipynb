{
  "cells": [
    {
      "cell_type": "markdown",
      "metadata": {
        "id": "Xg_gnqooN2VI"
      },
      "source": [
        "**Avant de débuter ce TP** :\n",
        "\n",
        "1. **Changez le type d'exécution sur Google Colab** : `Exécution > Modifiez le type d'exécution > T4 GPU`\n",
        "2. **Installez les paquets ci-dessous** :"
      ]
    },
    {
      "cell_type": "code",
      "execution_count": null,
      "metadata": {
        "id": "bf5eVYBJN2VJ"
      },
      "outputs": [],
      "source": [
        "! pip install lightning torchmetrics torchinfo"
      ]
    },
    {
      "cell_type": "markdown",
      "metadata": {
        "id": "Tf9p3hOJN2VJ"
      },
      "source": [
        "3. Exécutez ce code pour supprimer quelques messages et avertissements éventuellement affichés."
      ]
    },
    {
      "cell_type": "code",
      "execution_count": null,
      "metadata": {
        "id": "Jkk5draCN2VJ"
      },
      "outputs": [],
      "source": [
        "import logging\n",
        "logging.getLogger(\"lightning\").setLevel(logging.ERROR)\n",
        "logging.getLogger(\"lightning.pytorch.utilities.rank_zero\").setLevel(logging.WARNING)\n",
        "logging.getLogger(\"lightning.pytorch.accelerators.cuda\").setLevel(logging.WARNING)\n",
        "logger = logging.getLogger(\"lightning\")\n",
        "logger.propagate = False\n",
        "\n",
        "import warnings\n",
        "warnings.filterwarnings(\"ignore\", \".*does not have many workers.*\")\n",
        "warnings.filterwarnings(\"ignore\", \".*Missing logger folder.*\")"
      ]
    },
    {
      "cell_type": "markdown",
      "metadata": {
        "id": "Uk5EmQMYN2VK"
      },
      "source": [
        "# Mon premier réseau de neurones artificiels\n",
        "\n",
        "Durant la deuxième partie de ce premier TP, vous allez travailler sur un autre jeu de données : [*forest cover types*](https://archive.ics.uci.edu/dataset/31/covertype).\n",
        "L'objectif est de prédire le type d'un arbre de forêt à partir de certaines caractéristiques.\n",
        "Il s'agit d'un problème de **classification**.\n",
        "\n",
        "En utilisant ce que vous avez appris dans le TP précédent, vous allez devoir :\n",
        "\n",
        "* **prétraiter les données**,\n",
        "* **indiquer comment accéder aux données**,\n",
        "* **construire un réseau de neurones**,\n",
        "* **entraîner et évaluer ce réseau de neurones**\n",
        "\n",
        "Nous utiliserons le paquet `scikit-learn` pour télécharger ce jeu de données. Comme d'habitude, on installe les paquets nécessaires qui ne sont pas déjà installés sur Colab :"
      ]
    },
    {
      "cell_type": "markdown",
      "metadata": {
        "id": "SiW_vL-GN2VK"
      },
      "source": [
        "Nous allons (télé)charger ce jeu de données en utilisant la fonction [`sklearn.datasets.fetch_covtype()`](https://scikit-learn.org/stable/modules/generated/sklearn.datasets.fetch_covtype.html).\n",
        "En résumé, cette fonction renvoie deux variables :\n",
        "\n",
        "* `X` est une matrice (un tableau NumPy à deux dimensions) de taille $n \\times p$ où $n$ est le nombre d'observations et $p$ est le nombre de variables. Ce sont les données en entrée.\n",
        "* `y` est un vecteur (un tableau NumPy à une dimension) de taille $n$. Ce sont les données en sortie (à prédire)."
      ]
    },
    {
      "cell_type": "code",
      "execution_count": null,
      "metadata": {
        "id": "I0xb0xzdN2VK"
      },
      "outputs": [],
      "source": [
        "from sklearn.datasets import fetch_covtype\n",
        "\n",
        "X, y = fetch_covtype(data_home='data', return_X_y=True)"
      ]
    },
    {
      "cell_type": "markdown",
      "metadata": {
        "id": "cJ53bnxsN2VK"
      },
      "source": [
        "### Question 1\n",
        "\n",
        "1. Déterminez la taille du jeu de données, c'est-à-dire le nombre d'observations $n$ et le nombre de variables $p$. Vous pouvez utiliser l'attribut [`numpy.ndarray.shape`](https://numpy.org/doc/stable/reference/generated/numpy.ndarray.shape.html)\n",
        "\n",
        "2. Déterminez le nombre de classes. Est-ce que les classes sont équilibrées ? Vous pouvez utiliser la fonction [`numpy.unique()`](https://numpy.org/doc/stable/reference/generated/numpy.unique.html)."
      ]
    },
    {
      "cell_type": "code",
      "execution_count": null,
      "metadata": {
        "id": "6ehZ33NeN2VK"
      },
      "outputs": [],
      "source": [
        "import numpy as np\n",
        "\n",
        "print(f\"Nombre d'observations : {X.shape[0]}\")\n",
        "print(f\"Nombre de variables : {X.shape[1]}\")"
      ]
    },
    {
      "cell_type": "code",
      "source": [
        "classes, counts = np.unique(y, return_counts=True)\n",
        "\n",
        "print(f\"Classes : {classes}\")\n",
        "print(f\"Nombre de classes : {classes.size}\")\n",
        "print(f\"Distribution des classes : {counts / counts.sum()}\")"
      ],
      "metadata": {
        "id": "0HIrRvS6QQtp"
      },
      "execution_count": null,
      "outputs": []
    },
    {
      "cell_type": "markdown",
      "metadata": {
        "id": "i-ZQS1CXN2VK"
      },
      "source": [
        "### Question 2\n",
        "\n",
        "Séparez le jeu de données en trois :\n",
        "* un jeu d'entraînement avec 100 000 observations,\n",
        "* un jeu de validation avec 100 000 observations,\n",
        "* un jeu d'évaluation (reste).\n",
        "\n",
        "Vous pouvez utiliser la fonction [`sklearn.model_selection.train_test_split()`](https://scikit-learn.org/stable/modules/generated/sklearn.model_selection.train_test_split.html).\n",
        "Assurez-vous que la distribution des classes est identique dans les trois sous-jeux de données en utilisant le paramètre `stratify`."
      ]
    },
    {
      "cell_type": "code",
      "execution_count": null,
      "metadata": {
        "id": "6eg26XHWN2VK"
      },
      "outputs": [],
      "source": [
        "from sklearn.model_selection import train_test_split\n",
        "\n",
        "X_train, X_temp, y_train, y_temp = train_test_split(\n",
        "    X, y, train_size=100000, stratify=y, random_state=42\n",
        ")\n",
        "\n",
        "X_val, X_test, y_val, y_test = train_test_split(\n",
        "    X_temp, y_temp, train_size=100000, stratify=y_temp, random_state=42\n",
        ")"
      ]
    },
    {
      "cell_type": "markdown",
      "metadata": {
        "id": "XJhDYTPGN2VK"
      },
      "source": [
        "### Question 3\n",
        "\n",
        "Convertissez les tableaux NumPy en tenseurs PyTorch. N'oubliez pas de changer le type des données :\n",
        "* les données en entrée (`X`) doivent passer de `numpy.float64` à `torch.float32`,\n",
        "* les données en sortie (`y`) doivent passer de `numpy.int32` à `torch.int64`.\n",
        "\n",
        "Vous pouvez utiliser la fonction [`torch.from_numpy()`](https://pytorch.org/docs/stable/generated/torch.from_numpy.html) et la méthode [`torch.Tensor.to()`](https://pytorch.org/docs/stable/generated/torch.Tensor.to.html).\n",
        "\n",
        "> **Remarque** : Pour les tâches de classification, il est nécessaire de fournir une représentation adaptée des classes pour la fonction de coût. La représentation la plus simple pour une tâche de classification multi-classes est d'utiliser les $K$ premiers entiers naturels (en commençant à partir de zéro), c'est-à-dire les entiers $0, \\ldots, K-1$, $K$ étant le nombre de classes. De cette manière, la correspondance entre la dernière couche du réseau de neurones (renvoyant les probabilités ou les logits) et les classes est basée sur les indicies : `probabilité[k]` correspond à la probabilité d'appartenir à la classe $k$ pour chaque $k \\in \\{ 0, \\ldots, K-1 \\}$."
      ]
    },
    {
      "cell_type": "code",
      "execution_count": null,
      "metadata": {
        "id": "zByvkahsN2VK"
      },
      "outputs": [],
      "source": [
        "import torch\n",
        "\n",
        "X_train = torch.from_numpy(X_train).to(dtype=torch.float32)\n",
        "X_val = torch.from_numpy(X_val).to(dtype=torch.float32)\n",
        "X_test = torch.from_numpy(X_test).to(dtype=torch.float32)\n",
        "\n",
        "y_train = torch.from_numpy(y_train - 1).to(dtype=torch.int64)\n",
        "y_val = torch.from_numpy(y_val - 1).to(dtype=torch.int64)\n",
        "y_test = torch.from_numpy(y_test - 1).to(dtype=torch.int64)"
      ]
    },
    {
      "cell_type": "markdown",
      "metadata": {
        "id": "SFTlFJJcN2VK"
      },
      "source": [
        "### Question 4\n",
        "\n",
        "Créez des instances de la classe [`torch.utils.data.Dataloader()`](https://pytorch.org/docs/stable/data.html#torch.utils.data.DataLoader) pour chacun des jeux (entraînement, validation et évaluation). Pour les jeux de données, vous pouvez utiliser la classe [`torch.utils.data.TensorDataset()`](https://pytorch.org/docs/stable/data.html#torch.utils.data.TensorDataset)."
      ]
    },
    {
      "cell_type": "code",
      "execution_count": null,
      "metadata": {
        "id": "Ui_UfwnyN2VK"
      },
      "outputs": [],
      "source": [
        "from torch.utils.data import DataLoader, TensorDataset\n",
        "\n",
        "train_dataset = TensorDataset(X_train, y_train)\n",
        "val_datasest = TensorDataset(X_val, y_val)\n",
        "test_dataset = TensorDataset(X_test, y_test)\n",
        "\n",
        "dataloader_train = DataLoader(train_dataset, batch_size = 100, shuffle = True)\n",
        "dataloader_val = DataLoader(val_datasest, batch_size = 100, shuffle = False)\n",
        "dataloader_test = DataLoader(test_dataset, batch_size = 100, shuffle = False)"
      ]
    },
    {
      "cell_type": "markdown",
      "metadata": {
        "id": "NuYaGI-vN2VK"
      },
      "source": [
        "### Question 5\n",
        "\n",
        "La définition des caractéristiques principales du modèle (architecture) et de son entraînement (algorithme d'optimisation, fonction de perte, métrique d'évaluation) se fait dans une même classe.\n",
        "Complétez les méthodes `__init__()`, `forward()` et `configure_optimizers()` de la classe `NeuralNetwork` définie ci-dessous en utilisant les informations fournies dans le texte ci-dessous.\n",
        "\n",
        "#### Architecture\n",
        "\n",
        "L'architecture de votre réseau de neurones est un **perceptron multicouche** avec les caractéristiques suivantes :\n",
        "* *Première couche cachée* : couche linéaire (128 variables en sortie) + fonction d'activation ReLU\n",
        "* *Deuxième couche cachée* : couche linéaire (64 variables en sortie) + fonction d'activation ReLU\n",
        "* *Dernière couche cachée* : couche linéaire (à vous de déterminer la taille de la sortie)\n",
        "\n",
        "Pour rappel, les couches sont initialisées dans le constructeur et la définition de la passe avant se fait dans la méthode `forward()`.\n",
        "Vous êtes encouragés à aller lire la documentation de [`torch.nn.Linear()`](https://pytorch.org/docs/stable/generated/torch.nn.Linear.html), [`torch.nn.ReLU()`](https://pytorch.org/docs/stable/generated/torch.nn.ReLU.html) et [`torch.nn.Sequential()`](https://pytorch.org/docs/stable/generated/torch.nn.Sequential.html).\n",
        "\n",
        "#### Entraînement\n",
        "\n",
        "Le modèle sera entraîné en utilisant l'entropie croisée comme fonction de perte et Adam avec les valeurs par défaut pour ses hyperparamètres comme algorithme d'optimisation.\n",
        "Vous êtes encouragés à aller lire la documentation de [`torch.nn.CrossEntropyLoss()`](https://pytorch.org/docs/stable/generated/torch.nn.CrossEntropyLoss.html) et [`torch.optim.Adam()`](https://pytorch.org/docs/stable/generated/torch.optim.Adam.html).\n",
        "\n",
        "#### Métrique\n",
        "\n",
        "La performance d'un modèle sera évalué en utilisant l'exactitude (*accuracy*).\n",
        "Vous pouvez utiliser [`torchmetrics.Accuracy()`](https://lightning.ai/docs/torchmetrics/stable/classification/accuracy.html)."
      ]
    },
    {
      "cell_type": "code",
      "execution_count": null,
      "metadata": {
        "id": "hEbmFsD4N2VL"
      },
      "outputs": [],
      "source": [
        "import lightning as L\n",
        "from torchmetrics import Accuracy\n",
        "\n",
        "class NeuralNetwork(L.LightningModule):  # La classe hérite de la classe lightning.LightningModule\n",
        "\n",
        "    def __init__(self):\n",
        "        \"\"\"Constructeur.\n",
        "\n",
        "        Dans le constructeur, on exécute le constructeur de la clase mère et on définit\n",
        "        toutes les couches et fonctions d'activation de notre réseau de neurones.\n",
        "        \"\"\"\n",
        "        super().__init__()  # Toujours exécuter le constructeur de la classe mère\n",
        "\n",
        "        ### BEGIN TODO ###\n",
        "        # Initialisation de la séquence de couches et de fonctions d'activation\n",
        "        self.sequential = torch.nn.Sequential(\n",
        "            torch.nn.Linear(54, 128),\n",
        "            torch.nn.ReLU(),\n",
        "            torch.nn.Linear(128, 64),\n",
        "            torch.nn.ReLU(),\n",
        "            torch.nn.Linear(64, 7)\n",
        "        )\n",
        "        # Initialisation de la fonction de perte\n",
        "        self.loss = torch.nn.CrossEntropyLoss()\n",
        "\n",
        "        # Initialisation des métriques d'évaluation\n",
        "        self.accuracy_train = Accuracy(task = \"multiclass\", num_classes = 7)\n",
        "        self.accuracy_val = Accuracy(task = \"multiclass\", num_classes = 7)\n",
        "        self.accuracy_test = Accuracy(task = \"multiclass\", num_classes = 7)\n",
        "        #### END TODO ####\n",
        "\n",
        "    def forward(self, x):\n",
        "        \"\"\"Implémente la passe avant.\n",
        "\n",
        "        L'argument x est un tenseur correspondant soit à l'entrée une seule\n",
        "        observation soit aux entrées d'un lot d'observations.\n",
        "        \"\"\"\n",
        "        ### BEGIN TODO ###\n",
        "        y = self.sequential(x)\n",
        "        #### END TODO ####\n",
        "        return y\n",
        "\n",
        "    def step(self, batch, dataset):\n",
        "        \"\"\"Effectue une étape.\n",
        "\n",
        "        Une étape consiste à passer d'un lot d'observations (l'argument batch)\n",
        "        à l'évaluation de la fonction de coût pour ce lot d'observations.\n",
        "\n",
        "        Parameters\n",
        "        ----------\n",
        "        batch : tuple\n",
        "            Un lot d'observations. Le premier élément du tuple est le lot\n",
        "            des entrées, le second est le lot des labels.\n",
        "\n",
        "        dataset : {\"training\", \"validation\", \"test\"}\n",
        "            Jeu de données utilisé.\n",
        "\n",
        "        Returns\n",
        "        -------\n",
        "        loss : Tensor, shape = (1,)\n",
        "            La fonction de coût pour ce lot d'observations.\n",
        "        \"\"\"\n",
        "        X, y = batch  # X correspond aux images, y aux classes\n",
        "        logits = self(X)  # Passe avant, qui renvoie les logits\n",
        "        loss = self.loss(logits, y)  # Évaluation de la fonction de perte\n",
        "        y_pred = logits.argmax(1)  # Prédictions du modèle\n",
        "\n",
        "        if dataset == \"training\":\n",
        "            metric = self.accuracy_train\n",
        "            name = \"train\"\n",
        "            bar_step = True\n",
        "        elif dataset == \"validation\":\n",
        "            metric = self.accuracy_val\n",
        "            name = \"val\"\n",
        "            bar_step = False\n",
        "        else:\n",
        "            metric = self.accuracy_test\n",
        "            name = \"test\"\n",
        "            bar_step = False\n",
        "\n",
        "        acc = metric(y_pred, y) # Évaluation de la métrique\n",
        "        self.log(f\"loss_{name}\", loss, prog_bar=bar_step, on_step=bar_step, on_epoch=True)\n",
        "        self.log(f\"accuracy_{name}\", acc, prog_bar=bar_step, on_step=bar_step, on_epoch=True)\n",
        "\n",
        "        return loss\n",
        "\n",
        "    def training_step(self, batch):\n",
        "        \"\"\"Effectue une étape d'entraînement.\"\"\"\n",
        "        return self.step(batch, \"training\")\n",
        "\n",
        "    def validation_step(self, batch):\n",
        "        \"\"\"Effectue une étape de validation.\"\"\"\n",
        "        return self.step(batch, \"validation\")\n",
        "\n",
        "    def test_step(self, batch):\n",
        "        \"\"\"Effectue une étape d'évaluation.\"\"\"\n",
        "        return self.step(batch, \"test\")\n",
        "\n",
        "    def on_train_start(self):\n",
        "        \"\"\"Code exécuté au début de l'entraînement.\"\"\"\n",
        "        string = f\"Version {self.trainer.logger.version}\"\n",
        "        print(f\"{string}\\n{'=' * len(string)}\\n\")\n",
        "\n",
        "    def on_train_epoch_end(self):\n",
        "        \"\"\"Code exécuté à la fin de chaque époque d'entraînement.\"\"\"\n",
        "        metrics = self.trainer.callback_metrics\n",
        "        string = (f\"\"\"\n",
        "            Époque {self.trainer.current_epoch + 1} / {self.trainer.max_epochs}\n",
        "            -------------------------------------------------\n",
        "            |     Jeu      | Fonction de perte | Exactitude |\n",
        "            | ------------ | ----------------- | ---------- |\n",
        "            | Entraînement |{metrics['loss_train'].item():^19.5f}|{metrics['accuracy_train'].item():^12.3%}|\n",
        "            |  Validation  |{metrics['loss_val'].item():^19.5f}|{metrics['accuracy_val'].item():^12.3%}|\n",
        "            -------------------------------------------------\n",
        "        \"\"\")\n",
        "        string = '\\n'.join([line.strip() for line in string.strip().split('\\n')])\n",
        "        print(string, \"\\n\")\n",
        "\n",
        "    def configure_optimizers(self):\n",
        "        \"\"\"Configure l'algorithme d'optimisation à utiliser.\"\"\"\n",
        "        ### BEGIN TODO ###\n",
        "        optimizer = torch.optim.Adam(self.parameters())\n",
        "        #### END TODO ####\n",
        "        return optimizer"
      ]
    },
    {
      "cell_type": "markdown",
      "metadata": {
        "id": "mGngm0HSN2VL"
      },
      "source": [
        "On va maintenant entraîner le modèle pendant 10 époques."
      ]
    },
    {
      "cell_type": "code",
      "execution_count": null,
      "metadata": {
        "id": "CjmTa51jN2VL"
      },
      "outputs": [],
      "source": [
        "from lightning.pytorch.callbacks import TQDMProgressBar\n",
        "from lightning.pytorch.loggers import CSVLogger\n",
        "\n",
        "\n",
        "model = NeuralNetwork()\n",
        "\n",
        "trainer = L.Trainer(\n",
        "    max_epochs=10,\n",
        "    enable_model_summary=False,  # supprimer le résumé du modèle\n",
        "    logger=CSVLogger('.'),  # sauvegarder les résultats dans un fichier CSV\n",
        "    num_sanity_val_steps=0,  # ne pas effectuer d'étape de validation avant l'entraînement\n",
        "    callbacks=[TQDMProgressBar(refresh_rate=100)]  # mettre à jour la barre de progression tous les 100 lots\n",
        ")\n",
        "\n",
        "trainer.fit(\n",
        "    model=model,\n",
        "    train_dataloaders=dataloader_train,\n",
        "    val_dataloaders=dataloader_val\n",
        ")"
      ]
    },
    {
      "cell_type": "markdown",
      "metadata": {
        "id": "KQa9LxcgN2VL"
      },
      "source": [
        "### Question 6\n",
        "\n",
        "Est-ce que l'exactitude (*accuracy*) est une métrique appropriée ici ?\n",
        "Quelle métrique serait davantage pertinente ?\n",
        "Y a-t-il également des modifications à faire pour potentiellement améliorer l'entraînement ?\n",
        "Regardez la documentation de [`torchmetrics.Accuracy()`](https://lightning.ai/docs/torchmetrics/stable/classification/accuracy.html) et de [`torch.nn.CrossEntropyLoss()`](https://pytorch.org/docs/stable/generated/torch.nn.CrossEntropyLoss.html) et faîtes les modifications nécessaires dans la méthode `forward()`.\n",
        "Vous pouvez utiliser la fonction [`torch.bincount()`](https://pytorch.org/docs/stable/generated/torch.bincount.html) pour compter le nombre d'observations pour les différentes classes.\n",
        "\n",
        "> **Remarque** : L'exactitude équilibrée (*balanced accuracy*) nécessite de connaître la distribution des classes pour connaître les poids des classes. La distribution des classes étant connue à la fin (quand on a parcouru tout le jeu de données), il n'est donc pas possible de calculer les scores d'exactitude équilibrée sur tous les lots intermédiaires. La bonne approche est de *mettre à jour* la métrique (avec la méthode `update()`) à chaque étape (*step*), puis de calculer l'exactitude équilibrée à la fin de l'époque (avec la méthode `compute()`) et enfin de réinitialiser les informations sauvegardées sous le capot pour calculer l'exactitude équilibrée (avec la méthode `reset()`)."
      ]
    },
    {
      "cell_type": "code",
      "execution_count": null,
      "metadata": {
        "id": "BqGZxLsMN2VL"
      },
      "outputs": [],
      "source": [
        "import lightning as L\n",
        "from torch import nn\n",
        "from torchmetrics import Accuracy\n",
        "\n",
        "\n",
        "class NeuralNetworkUpdated(L.LightningModule):  # La classe hérite de la classe lightning.LightningModule\n",
        "\n",
        "    def __init__(self):\n",
        "        \"\"\"Constructeur.\n",
        "\n",
        "        Dans le constructeur, on exécute le constructeur de la clase mère et on définit\n",
        "        toutes les couches et fonctions d'activation de notre réseau de neurones.\n",
        "        \"\"\"\n",
        "        super().__init__()  # Toujours exécuter le constructeur de la classe mère\n",
        "\n",
        "        self.sequential = nn.Sequential(\n",
        "            nn.Linear(54, 128),\n",
        "            nn.ReLU(),\n",
        "            nn.Linear(128, 64),\n",
        "            nn.ReLU(),\n",
        "            nn.Linear(64, 7),\n",
        "        )\n",
        "\n",
        "        ### BEGIN TODO ###\n",
        "        class_weights = len(y_train) / torch.bincount(y_train)\n",
        "        self.loss = torch.nn.CrossEntropyLoss(weight = class_weights)\n",
        "        self.bal_acc_train = Accuracy(task = \"multiclass\", average = \"macro\", num_classes = 7)\n",
        "        self.bal_acc_val = Accuracy(task = \"multiclass\", average = \"macro\", num_classes = 7)\n",
        "        self.bal_acc_test = Accuracy(task = \"multiclass\", average = \"macro\", num_classes = 7)\n",
        "        #### END TODO ####\n",
        "\n",
        "    def forward(self, x):\n",
        "        \"\"\"Implémente la passe avant.\n",
        "\n",
        "        L'argument x est un tenseur correspondant soit à l'entrée une seule\n",
        "        observation soit aux entrées d'un lot d'observations.\n",
        "        \"\"\"\n",
        "        return self.sequential(x)\n",
        "\n",
        "    def step(self, batch, dataset):\n",
        "        \"\"\"Effectue une étape.\n",
        "\n",
        "        Une étape consiste à passer d'un lot d'observations (l'argument batch)\n",
        "        à l'évaluation de la fonction de coût pour ce lot d'observations.\n",
        "\n",
        "        Parameters\n",
        "        ----------\n",
        "        batch : tuple\n",
        "            Un lot d'observations. Le premier élément du tuple est le lot\n",
        "            des entrées, le second est le lot des labels.\n",
        "\n",
        "        dataset : {\"training\", \"validation\", \"test\"}\n",
        "            Jeu de données utilisé.\n",
        "\n",
        "        Returns\n",
        "        -------\n",
        "        loss : Tensor, shape = (1,)\n",
        "            La fonction de coût pour ce lot d'observations.\n",
        "        \"\"\"\n",
        "        X, y = batch  # X correspond aux images, y aux classes\n",
        "        logits = self(X)  # Passe avant, qui renvoie les logits\n",
        "        loss = self.loss(logits, y)  # Évaluation de la fonction de perte\n",
        "        y_pred = logits.argmax(1)  # Prédictions du modèle\n",
        "\n",
        "        if dataset == \"training\":\n",
        "            metric = self.bal_acc_train\n",
        "            name = \"train\"\n",
        "            bar_step = True\n",
        "        elif dataset == \"validation\":\n",
        "            metric = self.bal_acc_val\n",
        "            name = \"val\"\n",
        "            bar_step = False\n",
        "        else:\n",
        "            metric = self.bal_acc_test\n",
        "            name = \"test\"\n",
        "            bar_step = False\n",
        "\n",
        "        acc = metric(y_pred, y) # Évaluation de la métrique\n",
        "        self.log(f\"weighted_loss_{name}\", loss, prog_bar=bar_step, on_step=bar_step, on_epoch=True)\n",
        "        self.log(f\"balanced_accuracy_{name}\", acc, prog_bar=bar_step, on_step=bar_step, on_epoch=True)\n",
        "\n",
        "        return loss\n",
        "\n",
        "    def training_step(self, batch):\n",
        "        \"\"\"Effectue une étape d'entraînement.\"\"\"\n",
        "        return self.step(batch, \"training\")\n",
        "\n",
        "    def validation_step(self, batch):\n",
        "        \"\"\"Effectue une étape de validation.\"\"\"\n",
        "        return self.step(batch, \"validation\")\n",
        "\n",
        "    def test_step(self, batch):\n",
        "        \"\"\"Effectue une étape d'évaluation.\"\"\"\n",
        "        return self.step(batch, \"test\")\n",
        "\n",
        "    def on_train_start(self):\n",
        "        \"\"\"Code exécuté au début de l'entraînement.\"\"\"\n",
        "        string = f\"Version {self.trainer.logger.version}\"\n",
        "        print(f\"{string}\\n{'=' * len(string)}\\n\")\n",
        "\n",
        "    def on_train_epoch_end(self):\n",
        "        \"\"\"Code exécuté à la fin de chaque époque d'entraînement.\"\"\"\n",
        "        self.log('balanced_accuracy_train', self.bal_acc_train.compute())\n",
        "        self.bal_acc_train.reset()\n",
        "\n",
        "        metrics = self.trainer.callback_metrics\n",
        "        weighted_loss_train = metrics['weighted_loss_train'].item()\n",
        "        weighted_loss_val = metrics['weighted_loss_val'].item()\n",
        "        bal_acc_train = metrics['balanced_accuracy_train'].item()\n",
        "        bal_acc_val = metrics['balanced_accuracy_val'].item()\n",
        "\n",
        "        string = (f\"\"\"\n",
        "            Époque {self.trainer.current_epoch + 1} / {self.trainer.max_epochs}\n",
        "            ------------------------------------------------------------\n",
        "            |     Jeu      | Fonction de perte | Exactitude équilibrée |\n",
        "            | ------------ | ----------------- | --------------------- |\n",
        "            | Entraînement |{weighted_loss_train:^19.5f}|{bal_acc_train:^23.3%}|\n",
        "            |  Validation  |{weighted_loss_val:^19.5f}|{bal_acc_val:^23.3%}|\n",
        "            ------------------------------------------------------------\n",
        "        \"\"\")\n",
        "        string = '\\n'.join([line.strip() for line in string.strip().split('\\n')])\n",
        "        print(string, \"\\n\")\n",
        "\n",
        "    def on_validation_epoch_end(self):\n",
        "        self.log('bal_acc_val', self.bal_acc_val.compute())\n",
        "        self.bal_acc_val.reset()\n",
        "\n",
        "    def on_test_epoch_end(self):\n",
        "        self.log('bal_acc_test', self.bal_acc_test.compute())\n",
        "        self.bal_acc_test.reset()\n",
        "\n",
        "    def configure_optimizers(self):\n",
        "        \"\"\"Configure l'algorithme d'optimisation à utiliser.\"\"\"\n",
        "        optimizer = torch.optim.Adam(self.parameters())\n",
        "        return optimizer"
      ]
    },
    {
      "cell_type": "markdown",
      "metadata": {
        "id": "wL3E_FVHN2VL"
      },
      "source": [
        "On entraîne un nouveau modèle pendant $10$ époques également."
      ]
    },
    {
      "cell_type": "code",
      "execution_count": null,
      "metadata": {
        "id": "3-4DgK3yN2VL"
      },
      "outputs": [],
      "source": [
        "from lightning.pytorch.callbacks import TQDMProgressBar\n",
        "from lightning.pytorch.loggers import CSVLogger\n",
        "\n",
        "model_updated = NeuralNetworkUpdated()\n",
        "\n",
        "trainer_updated = L.Trainer(\n",
        "    max_epochs=10,\n",
        "    enable_model_summary=False,  # supprimer le résumé du modèle\n",
        "    logger=CSVLogger('.'),  # sauvegarder les résultats dans un fichier CSV\n",
        "    num_sanity_val_steps=0,  # ne pas effectuer d'étape de validation avant l'entraînement\n",
        "    callbacks=[TQDMProgressBar(refresh_rate=100)]  # mettre à jour la barre de progression tous les 100 lots\n",
        ")\n",
        "\n",
        "trainer_updated.fit(\n",
        "    model=model_updated,\n",
        "    train_dataloaders=dataloader_train,\n",
        "    val_dataloaders=dataloader_val\n",
        ")"
      ]
    },
    {
      "cell_type": "markdown",
      "metadata": {
        "id": "uyoZ8UbCN2VM"
      },
      "source": [
        "### Question 7\n",
        "\n",
        "Faîtes les modifications que vous souhaitez, par exemple au niveau de l'architecture ou de la procédure d'entraînement, et entraînez vos nouveaux modèles.\n",
        "**Gardez vos modèles précédents** et créez de nouveaux objets à chaque fois, afin de pouvoir comparer ces différents modèles ensuite."
      ]
    },
    {
      "cell_type": "markdown",
      "source": [
        "Dans ce deuxième modèle, on réduit le nombre de neurones dans la première hidden layer, en utilisant la cross entropy classique car en prenant en compte les disparités des classes on obtenait de moins bon résultat."
      ],
      "metadata": {
        "id": "jKGk7ap2YCcb"
      }
    },
    {
      "cell_type": "code",
      "execution_count": null,
      "metadata": {
        "id": "0zGbXufMN2VM"
      },
      "outputs": [],
      "source": [
        "import lightning as L\n",
        "from torch import nn\n",
        "from torchmetrics import Accuracy\n",
        "\n",
        "\n",
        "class NeuralNetworkUpdated2(L.LightningModule):  # La classe hérite de la classe lightning.LightningModule\n",
        "\n",
        "    def __init__(self):\n",
        "        \"\"\"Constructeur.\n",
        "\n",
        "        Dans le constructeur, on exécute le constructeur de la clase mère et on définit\n",
        "        toutes les couches et fonctions d'activation de notre réseau de neurones.\n",
        "        \"\"\"\n",
        "        super().__init__()  # Toujours exécuter le constructeur de la classe mère\n",
        "\n",
        "        self.sequential = nn.Sequential(\n",
        "            nn.Linear(54, 64),\n",
        "            nn.ReLU(),\n",
        "            nn.Linear(64, 64),\n",
        "            nn.ReLU(),\n",
        "            nn.Linear(64, 7),\n",
        "        )\n",
        "\n",
        "        ### BEGIN TODO ###\n",
        "        self.loss = torch.nn.CrossEntropyLoss()\n",
        "        self.bal_acc_train = Accuracy(task = \"multiclass\", num_classes = 7)\n",
        "        self.bal_acc_val = Accuracy(task = \"multiclass\", num_classes = 7)\n",
        "        self.bal_acc_test = Accuracy(task = \"multiclass\", num_classes = 7)\n",
        "        #### END TODO ####\n",
        "\n",
        "    def forward(self, x):\n",
        "        \"\"\"Implémente la passe avant.\n",
        "\n",
        "        L'argument x est un tenseur correspondant soit à l'entrée une seule\n",
        "        observation soit aux entrées d'un lot d'observations.\n",
        "        \"\"\"\n",
        "        return self.sequential(x)\n",
        "\n",
        "    def step(self, batch, dataset):\n",
        "        \"\"\"Effectue une étape.\n",
        "\n",
        "        Une étape consiste à passer d'un lot d'observations (l'argument batch)\n",
        "        à l'évaluation de la fonction de coût pour ce lot d'observations.\n",
        "\n",
        "        Parameters\n",
        "        ----------\n",
        "        batch : tuple\n",
        "            Un lot d'observations. Le premier élément du tuple est le lot\n",
        "            des entrées, le second est le lot des labels.\n",
        "\n",
        "        dataset : {\"training\", \"validation\", \"test\"}\n",
        "            Jeu de données utilisé.\n",
        "\n",
        "        Returns\n",
        "        -------\n",
        "        loss : Tensor, shape = (1,)\n",
        "            La fonction de coût pour ce lot d'observations.\n",
        "        \"\"\"\n",
        "        X, y = batch  # X correspond aux images, y aux classes\n",
        "        logits = self(X)  # Passe avant, qui renvoie les logits\n",
        "        loss = self.loss(logits, y)  # Évaluation de la fonction de perte\n",
        "        y_pred = logits.argmax(1)  # Prédictions du modèle\n",
        "\n",
        "        if dataset == \"training\":\n",
        "            metric = self.bal_acc_train\n",
        "            name = \"train\"\n",
        "            bar_step = True\n",
        "        elif dataset == \"validation\":\n",
        "            metric = self.bal_acc_val\n",
        "            name = \"val\"\n",
        "            bar_step = False\n",
        "        else:\n",
        "            metric = self.bal_acc_test\n",
        "            name = \"test\"\n",
        "            bar_step = False\n",
        "\n",
        "        acc = metric(y_pred, y) # Évaluation de la métrique\n",
        "        self.log(f\"weighted_loss_{name}\", loss, prog_bar=bar_step, on_step=bar_step, on_epoch=True)\n",
        "        self.log(f\"balanced_accuracy_{name}\", acc, prog_bar=bar_step, on_step=bar_step, on_epoch=True)\n",
        "\n",
        "        return loss\n",
        "\n",
        "    def training_step(self, batch):\n",
        "        \"\"\"Effectue une étape d'entraînement.\"\"\"\n",
        "        return self.step(batch, \"training\")\n",
        "\n",
        "    def validation_step(self, batch):\n",
        "        \"\"\"Effectue une étape de validation.\"\"\"\n",
        "        return self.step(batch, \"validation\")\n",
        "\n",
        "    def test_step(self, batch):\n",
        "        \"\"\"Effectue une étape d'évaluation.\"\"\"\n",
        "        return self.step(batch, \"test\")\n",
        "\n",
        "    def on_train_start(self):\n",
        "        \"\"\"Code exécuté au début de l'entraînement.\"\"\"\n",
        "        string = f\"Version {self.trainer.logger.version}\"\n",
        "        print(f\"{string}\\n{'=' * len(string)}\\n\")\n",
        "\n",
        "    def on_train_epoch_end(self):\n",
        "        \"\"\"Code exécuté à la fin de chaque époque d'entraînement.\"\"\"\n",
        "        self.log('balanced_accuracy_train', self.bal_acc_train.compute())\n",
        "        self.bal_acc_train.reset()\n",
        "\n",
        "        metrics = self.trainer.callback_metrics\n",
        "        weighted_loss_train = metrics['weighted_loss_train'].item()\n",
        "        weighted_loss_val = metrics['weighted_loss_val'].item()\n",
        "        bal_acc_train = metrics['balanced_accuracy_train'].item()\n",
        "        bal_acc_val = metrics['balanced_accuracy_val'].item()\n",
        "\n",
        "        string = (f\"\"\"\n",
        "            Époque {self.trainer.current_epoch + 1} / {self.trainer.max_epochs}\n",
        "            ------------------------------------------------------------\n",
        "            |     Jeu      | Fonction de perte | Exactitude équilibrée |\n",
        "            | ------------ | ----------------- | --------------------- |\n",
        "            | Entraînement |{weighted_loss_train:^19.5f}|{bal_acc_train:^23.3%}|\n",
        "            |  Validation  |{weighted_loss_val:^19.5f}|{bal_acc_val:^23.3%}|\n",
        "            ------------------------------------------------------------\n",
        "        \"\"\")\n",
        "        string = '\\n'.join([line.strip() for line in string.strip().split('\\n')])\n",
        "        print(string, \"\\n\")\n",
        "\n",
        "    def on_validation_epoch_end(self):\n",
        "        self.log('bal_acc_val', self.bal_acc_val.compute())\n",
        "        self.bal_acc_val.reset()\n",
        "\n",
        "    def on_test_epoch_end(self):\n",
        "        self.log('bal_acc_test', self.bal_acc_test.compute())\n",
        "        self.bal_acc_test.reset()\n",
        "\n",
        "    def configure_optimizers(self):\n",
        "        \"\"\"Configure l'algorithme d'optimisation à utiliser.\"\"\"\n",
        "        optimizer = torch.optim.Adam(self.parameters())\n",
        "        return optimizer"
      ]
    },
    {
      "cell_type": "code",
      "source": [
        "from lightning.pytorch.callbacks import TQDMProgressBar\n",
        "from lightning.pytorch.loggers import CSVLogger\n",
        "\n",
        "model_updated2 = NeuralNetworkUpdated2()\n",
        "\n",
        "trainer_updated2 = L.Trainer(\n",
        "    max_epochs=10,\n",
        "    enable_model_summary=False,  # supprimer le résumé du modèle\n",
        "    logger=CSVLogger('.'),  # sauvegarder les résultats dans un fichier CSV\n",
        "    num_sanity_val_steps=0,  # ne pas effectuer d'étape de validation avant l'entraînement\n",
        "    callbacks=[TQDMProgressBar(refresh_rate=100)]  # mettre à jour la barre de progression tous les 100 lots\n",
        ")\n",
        "\n",
        "trainer_updated2.fit(\n",
        "    model=model_updated,\n",
        "    train_dataloaders=dataloader_train,\n",
        "    val_dataloaders=dataloader_val\n",
        ")"
      ],
      "metadata": {
        "id": "4FjS8UWIXit_"
      },
      "execution_count": null,
      "outputs": []
    },
    {
      "cell_type": "markdown",
      "source": [
        "Ce troisième modèle n'est pas meilleur que le premier utilisé. On essaye donc de diminuer aussi le nombre de neurone de la deuxième hidden layer."
      ],
      "metadata": {
        "id": "igibNLEFYN9-"
      }
    },
    {
      "cell_type": "code",
      "source": [
        "import lightning as L\n",
        "from torch import nn\n",
        "from torchmetrics import Accuracy\n",
        "\n",
        "\n",
        "class NeuralNetworkUpdated3(L.LightningModule):  # La classe hérite de la classe lightning.LightningModule\n",
        "\n",
        "    def __init__(self):\n",
        "        \"\"\"Constructeur.\n",
        "\n",
        "        Dans le constructeur, on exécute le constructeur de la clase mère et on définit\n",
        "        toutes les couches et fonctions d'activation de notre réseau de neurones.\n",
        "        \"\"\"\n",
        "        super().__init__()  # Toujours exécuter le constructeur de la classe mère\n",
        "\n",
        "        self.sequential = nn.Sequential(\n",
        "            nn.Linear(54, 64),\n",
        "            nn.ReLU(),\n",
        "            nn.Linear(64, 32),\n",
        "            nn.ReLU(),\n",
        "            nn.Linear(32, 7),\n",
        "        )\n",
        "\n",
        "        ### BEGIN TODO ###\n",
        "        self.loss = torch.nn.CrossEntropyLoss()\n",
        "        self.bal_acc_train = Accuracy(task = \"multiclass\", num_classes = 7)\n",
        "        self.bal_acc_val = Accuracy(task = \"multiclass\", num_classes = 7)\n",
        "        self.bal_acc_test = Accuracy(task = \"multiclass\", num_classes = 7)\n",
        "        #### END TODO ####\n",
        "\n",
        "    def forward(self, x):\n",
        "        \"\"\"Implémente la passe avant.\n",
        "\n",
        "        L'argument x est un tenseur correspondant soit à l'entrée une seule\n",
        "        observation soit aux entrées d'un lot d'observations.\n",
        "        \"\"\"\n",
        "        return self.sequential(x)\n",
        "\n",
        "    def step(self, batch, dataset):\n",
        "        \"\"\"Effectue une étape.\n",
        "\n",
        "        Une étape consiste à passer d'un lot d'observations (l'argument batch)\n",
        "        à l'évaluation de la fonction de coût pour ce lot d'observations.\n",
        "\n",
        "        Parameters\n",
        "        ----------\n",
        "        batch : tuple\n",
        "            Un lot d'observations. Le premier élément du tuple est le lot\n",
        "            des entrées, le second est le lot des labels.\n",
        "\n",
        "        dataset : {\"training\", \"validation\", \"test\"}\n",
        "            Jeu de données utilisé.\n",
        "\n",
        "        Returns\n",
        "        -------\n",
        "        loss : Tensor, shape = (1,)\n",
        "            La fonction de coût pour ce lot d'observations.\n",
        "        \"\"\"\n",
        "        X, y = batch  # X correspond aux images, y aux classes\n",
        "        logits = self(X)  # Passe avant, qui renvoie les logits\n",
        "        loss = self.loss(logits, y)  # Évaluation de la fonction de perte\n",
        "        y_pred = logits.argmax(1)  # Prédictions du modèle\n",
        "\n",
        "        if dataset == \"training\":\n",
        "            metric = self.bal_acc_train\n",
        "            name = \"train\"\n",
        "            bar_step = True\n",
        "        elif dataset == \"validation\":\n",
        "            metric = self.bal_acc_val\n",
        "            name = \"val\"\n",
        "            bar_step = False\n",
        "        else:\n",
        "            metric = self.bal_acc_test\n",
        "            name = \"test\"\n",
        "            bar_step = False\n",
        "\n",
        "        acc = metric(y_pred, y) # Évaluation de la métrique\n",
        "        self.log(f\"weighted_loss_{name}\", loss, prog_bar=bar_step, on_step=bar_step, on_epoch=True)\n",
        "        self.log(f\"balanced_accuracy_{name}\", acc, prog_bar=bar_step, on_step=bar_step, on_epoch=True)\n",
        "\n",
        "        return loss\n",
        "\n",
        "    def training_step(self, batch):\n",
        "        \"\"\"Effectue une étape d'entraînement.\"\"\"\n",
        "        return self.step(batch, \"training\")\n",
        "\n",
        "    def validation_step(self, batch):\n",
        "        \"\"\"Effectue une étape de validation.\"\"\"\n",
        "        return self.step(batch, \"validation\")\n",
        "\n",
        "    def test_step(self, batch):\n",
        "        \"\"\"Effectue une étape d'évaluation.\"\"\"\n",
        "        return self.step(batch, \"test\")\n",
        "\n",
        "    def on_train_start(self):\n",
        "        \"\"\"Code exécuté au début de l'entraînement.\"\"\"\n",
        "        string = f\"Version {self.trainer.logger.version}\"\n",
        "        print(f\"{string}\\n{'=' * len(string)}\\n\")\n",
        "\n",
        "    def on_train_epoch_end(self):\n",
        "        \"\"\"Code exécuté à la fin de chaque époque d'entraînement.\"\"\"\n",
        "        self.log('balanced_accuracy_train', self.bal_acc_train.compute())\n",
        "        self.bal_acc_train.reset()\n",
        "\n",
        "        metrics = self.trainer.callback_metrics\n",
        "        weighted_loss_train = metrics['weighted_loss_train'].item()\n",
        "        weighted_loss_val = metrics['weighted_loss_val'].item()\n",
        "        bal_acc_train = metrics['balanced_accuracy_train'].item()\n",
        "        bal_acc_val = metrics['balanced_accuracy_val'].item()\n",
        "\n",
        "        string = (f\"\"\"\n",
        "            Époque {self.trainer.current_epoch + 1} / {self.trainer.max_epochs}\n",
        "            ------------------------------------------------------------\n",
        "            |     Jeu      | Fonction de perte | Exactitude équilibrée |\n",
        "            | ------------ | ----------------- | --------------------- |\n",
        "            | Entraînement |{weighted_loss_train:^19.5f}|{bal_acc_train:^23.3%}|\n",
        "            |  Validation  |{weighted_loss_val:^19.5f}|{bal_acc_val:^23.3%}|\n",
        "            ------------------------------------------------------------\n",
        "        \"\"\")\n",
        "        string = '\\n'.join([line.strip() for line in string.strip().split('\\n')])\n",
        "        print(string, \"\\n\")\n",
        "\n",
        "    def on_validation_epoch_end(self):\n",
        "        self.log('bal_acc_val', self.bal_acc_val.compute())\n",
        "        self.bal_acc_val.reset()\n",
        "\n",
        "    def on_test_epoch_end(self):\n",
        "        self.log('bal_acc_test', self.bal_acc_test.compute())\n",
        "        self.bal_acc_test.reset()\n",
        "\n",
        "    def configure_optimizers(self):\n",
        "        \"\"\"Configure l'algorithme d'optimisation à utiliser.\"\"\"\n",
        "        optimizer = torch.optim.Adam(self.parameters())\n",
        "        return optimizer"
      ],
      "metadata": {
        "id": "NFnUrMGmYzD1"
      },
      "execution_count": null,
      "outputs": []
    },
    {
      "cell_type": "code",
      "source": [
        "from lightning.pytorch.callbacks import TQDMProgressBar\n",
        "from lightning.pytorch.loggers import CSVLogger\n",
        "\n",
        "model_updated3 = NeuralNetworkUpdated3()\n",
        "\n",
        "trainer_updated3 = L.Trainer(\n",
        "    max_epochs=10,\n",
        "    enable_model_summary=False,  # supprimer le résumé du modèle\n",
        "    logger=CSVLogger('.'),  # sauvegarder les résultats dans un fichier CSV\n",
        "    num_sanity_val_steps=0,  # ne pas effectuer d'étape de validation avant l'entraînement\n",
        "    callbacks=[TQDMProgressBar(refresh_rate=100)]  # mettre à jour la barre de progression tous les 100 lots\n",
        ")\n",
        "\n",
        "trainer_updated3.fit(\n",
        "    model=model_updated,\n",
        "    train_dataloaders=dataloader_train,\n",
        "    val_dataloaders=dataloader_val\n",
        ")"
      ],
      "metadata": {
        "id": "ReAKw_6rYvLZ"
      },
      "execution_count": null,
      "outputs": []
    },
    {
      "cell_type": "markdown",
      "source": [
        "Nous n'obtenons pas de meilleur résultat. On va donc essayer de mettre en place un réseau avec plus de neurones sur la première hidden layer."
      ],
      "metadata": {
        "id": "J8t3hFY7ZXEF"
      }
    },
    {
      "cell_type": "code",
      "source": [
        "import lightning as L\n",
        "from torch import nn\n",
        "from torchmetrics import Accuracy\n",
        "\n",
        "\n",
        "class NeuralNetworkUpdated4(L.LightningModule):  # La classe hérite de la classe lightning.LightningModule\n",
        "\n",
        "    def __init__(self):\n",
        "        \"\"\"Constructeur.\n",
        "\n",
        "        Dans le constructeur, on exécute le constructeur de la clase mère et on définit\n",
        "        toutes les couches et fonctions d'activation de notre réseau de neurones.\n",
        "        \"\"\"\n",
        "        super().__init__()  # Toujours exécuter le constructeur de la classe mère\n",
        "\n",
        "        self.sequential = nn.Sequential(\n",
        "            nn.Linear(54, 256),\n",
        "            nn.ReLU(),\n",
        "            nn.Linear(256, 64),\n",
        "            nn.ReLU(),\n",
        "            nn.Linear(64, 7),\n",
        "        )\n",
        "\n",
        "        ### BEGIN TODO ###\n",
        "        self.loss = torch.nn.CrossEntropyLoss()\n",
        "        self.bal_acc_train = Accuracy(task = \"multiclass\", num_classes = 7)\n",
        "        self.bal_acc_val = Accuracy(task = \"multiclass\", num_classes = 7)\n",
        "        self.bal_acc_test = Accuracy(task = \"multiclass\", num_classes = 7)\n",
        "        #### END TODO ####\n",
        "\n",
        "    def forward(self, x):\n",
        "        \"\"\"Implémente la passe avant.\n",
        "\n",
        "        L'argument x est un tenseur correspondant soit à l'entrée une seule\n",
        "        observation soit aux entrées d'un lot d'observations.\n",
        "        \"\"\"\n",
        "        return self.sequential(x)\n",
        "\n",
        "    def step(self, batch, dataset):\n",
        "        \"\"\"Effectue une étape.\n",
        "\n",
        "        Une étape consiste à passer d'un lot d'observations (l'argument batch)\n",
        "        à l'évaluation de la fonction de coût pour ce lot d'observations.\n",
        "\n",
        "        Parameters\n",
        "        ----------\n",
        "        batch : tuple\n",
        "            Un lot d'observations. Le premier élément du tuple est le lot\n",
        "            des entrées, le second est le lot des labels.\n",
        "\n",
        "        dataset : {\"training\", \"validation\", \"test\"}\n",
        "            Jeu de données utilisé.\n",
        "\n",
        "        Returns\n",
        "        -------\n",
        "        loss : Tensor, shape = (1,)\n",
        "            La fonction de coût pour ce lot d'observations.\n",
        "        \"\"\"\n",
        "        X, y = batch  # X correspond aux images, y aux classes\n",
        "        logits = self(X)  # Passe avant, qui renvoie les logits\n",
        "        loss = self.loss(logits, y)  # Évaluation de la fonction de perte\n",
        "        y_pred = logits.argmax(1)  # Prédictions du modèle\n",
        "\n",
        "        if dataset == \"training\":\n",
        "            metric = self.bal_acc_train\n",
        "            name = \"train\"\n",
        "            bar_step = True\n",
        "        elif dataset == \"validation\":\n",
        "            metric = self.bal_acc_val\n",
        "            name = \"val\"\n",
        "            bar_step = False\n",
        "        else:\n",
        "            metric = self.bal_acc_test\n",
        "            name = \"test\"\n",
        "            bar_step = False\n",
        "\n",
        "        acc = metric(y_pred, y) # Évaluation de la métrique\n",
        "        self.log(f\"weighted_loss_{name}\", loss, prog_bar=bar_step, on_step=bar_step, on_epoch=True)\n",
        "        self.log(f\"balanced_accuracy_{name}\", acc, prog_bar=bar_step, on_step=bar_step, on_epoch=True)\n",
        "\n",
        "        return loss\n",
        "\n",
        "    def training_step(self, batch):\n",
        "        \"\"\"Effectue une étape d'entraînement.\"\"\"\n",
        "        return self.step(batch, \"training\")\n",
        "\n",
        "    def validation_step(self, batch):\n",
        "        \"\"\"Effectue une étape de validation.\"\"\"\n",
        "        return self.step(batch, \"validation\")\n",
        "\n",
        "    def test_step(self, batch):\n",
        "        \"\"\"Effectue une étape d'évaluation.\"\"\"\n",
        "        return self.step(batch, \"test\")\n",
        "\n",
        "    def on_train_start(self):\n",
        "        \"\"\"Code exécuté au début de l'entraînement.\"\"\"\n",
        "        string = f\"Version {self.trainer.logger.version}\"\n",
        "        print(f\"{string}\\n{'=' * len(string)}\\n\")\n",
        "\n",
        "    def on_train_epoch_end(self):\n",
        "        \"\"\"Code exécuté à la fin de chaque époque d'entraînement.\"\"\"\n",
        "        self.log('balanced_accuracy_train', self.bal_acc_train.compute())\n",
        "        self.bal_acc_train.reset()\n",
        "\n",
        "        metrics = self.trainer.callback_metrics\n",
        "        weighted_loss_train = metrics['weighted_loss_train'].item()\n",
        "        weighted_loss_val = metrics['weighted_loss_val'].item()\n",
        "        bal_acc_train = metrics['balanced_accuracy_train'].item()\n",
        "        bal_acc_val = metrics['balanced_accuracy_val'].item()\n",
        "\n",
        "        string = (f\"\"\"\n",
        "            Époque {self.trainer.current_epoch + 1} / {self.trainer.max_epochs}\n",
        "            ------------------------------------------------------------\n",
        "            |     Jeu      | Fonction de perte | Exactitude équilibrée |\n",
        "            | ------------ | ----------------- | --------------------- |\n",
        "            | Entraînement |{weighted_loss_train:^19.5f}|{bal_acc_train:^23.3%}|\n",
        "            |  Validation  |{weighted_loss_val:^19.5f}|{bal_acc_val:^23.3%}|\n",
        "            ------------------------------------------------------------\n",
        "        \"\"\")\n",
        "        string = '\\n'.join([line.strip() for line in string.strip().split('\\n')])\n",
        "        print(string, \"\\n\")\n",
        "\n",
        "    def on_validation_epoch_end(self):\n",
        "        self.log('bal_acc_val', self.bal_acc_val.compute())\n",
        "        self.bal_acc_val.reset()\n",
        "\n",
        "    def on_test_epoch_end(self):\n",
        "        self.log('bal_acc_test', self.bal_acc_test.compute())\n",
        "        self.bal_acc_test.reset()\n",
        "\n",
        "    def configure_optimizers(self):\n",
        "        \"\"\"Configure l'algorithme d'optimisation à utiliser.\"\"\"\n",
        "        optimizer = torch.optim.Adam(self.parameters())\n",
        "        return optimizer"
      ],
      "metadata": {
        "id": "H3F_09XeZnSz"
      },
      "execution_count": null,
      "outputs": []
    },
    {
      "cell_type": "code",
      "source": [
        "from lightning.pytorch.callbacks import TQDMProgressBar\n",
        "from lightning.pytorch.loggers import CSVLogger\n",
        "\n",
        "model_updated4 = NeuralNetworkUpdated4()\n",
        "\n",
        "trainer_updated4 = L.Trainer(\n",
        "    max_epochs=10,\n",
        "    enable_model_summary=False,  # supprimer le résumé du modèle\n",
        "    logger=CSVLogger('.'),  # sauvegarder les résultats dans un fichier CSV\n",
        "    num_sanity_val_steps=0,  # ne pas effectuer d'étape de validation avant l'entraînement\n",
        "    callbacks=[TQDMProgressBar(refresh_rate=100)]  # mettre à jour la barre de progression tous les 100 lots\n",
        ")\n",
        "\n",
        "trainer_updated4.fit(\n",
        "    model=model_updated,\n",
        "    train_dataloaders=dataloader_train,\n",
        "    val_dataloaders=dataloader_val\n",
        ")"
      ],
      "metadata": {
        "id": "k4-0mNfrZwac"
      },
      "execution_count": null,
      "outputs": []
    },
    {
      "cell_type": "markdown",
      "source": [
        "Le meilleur modèle reste le meilleur. Sur ce dernier modèle, nous avons des problèmes de sur-apprentissage."
      ],
      "metadata": {
        "id": "GSzjA4EGaMj6"
      }
    },
    {
      "cell_type": "markdown",
      "metadata": {
        "id": "-8OaIs7NN2VM"
      },
      "source": [
        "### Question 8\n",
        "\n",
        "Quand vous avez fini toutes vos expériences, il est temps de choisir le meilleur modèle sur le jeu de validation.\n",
        "Évaluez sa performance sur le jeu d'évaluation.\n",
        "Par curiosité, évaluez également la performance des autres modèles sur le jeu d'évaluation.\n",
        "Vous êtes encouragés à aller lire la [documentation](https://lightning.ai/docs/torchmetrics/stable/pages/overview.html) de `torchmetrics` pour découvrir le principe d'utilisation des métriques implémentées dans ce paquet.\n",
        "\n",
        "> **Remarque** : La première classe utilise l'exactitude (*accuracy*) comme métrique d'évaluation, tandis que la deuxième classe utilise l'exactitude équilibrée (*balanced accuracy*). Il n'est évidemment pas pertinent de comparer des scores d'exactitude avec des scores d'exactitude équilibrée. De même, la fonction de perte est maintenant pondérée dans la deuxième classe. Il n'est donc pas possible d'utiliser les méthodes `validate()` et `test()` pour comparer des modèles définis par des classes différentes si les classes utilisent différents critères d'évaluation."
      ]
    },
    {
      "cell_type": "code",
      "execution_count": null,
      "metadata": {
        "id": "Mf1bFehWN2VM"
      },
      "outputs": [],
      "source": [
        "trainer.validate(model, dataloader_val)"
      ]
    },
    {
      "cell_type": "code",
      "source": [
        "trainer_updated.validate(model_updated, dataloader_val)"
      ],
      "metadata": {
        "id": "H6yMa51vceEA"
      },
      "execution_count": null,
      "outputs": []
    },
    {
      "cell_type": "code",
      "source": [
        "trainer_updated2.validate(model_updated2, dataloader_val)"
      ],
      "metadata": {
        "id": "DbwvyZFAcgQm"
      },
      "execution_count": null,
      "outputs": []
    },
    {
      "cell_type": "code",
      "source": [
        "trainer_updated3.validate(model_updated3, dataloader_val)"
      ],
      "metadata": {
        "id": "oHvZ_BVTcjZ6"
      },
      "execution_count": null,
      "outputs": []
    },
    {
      "cell_type": "code",
      "source": [
        "trainer_updated4.validate(model_updated4, dataloader_val)"
      ],
      "metadata": {
        "id": "lymV8OZ7czbN"
      },
      "execution_count": null,
      "outputs": []
    },
    {
      "cell_type": "code",
      "source": [
        "bal_accuracy_1 = Accuracy(task=\"multiclass\", average='macro', num_classes=7)\n",
        "bal_accuracy_2 = Accuracy(task=\"multiclass\", average='macro', num_classes=7)\n",
        "bal_accuracy_3 = Accuracy(task=\"multiclass\", average='macro', num_classes=7)\n",
        "bal_accuracy_4 = Accuracy(task=\"multiclass\", average='macro', num_classes=7)\n",
        "bal_accuracy_5 = Accuracy(task=\"multiclass\", average='macro', num_classes=7)\n",
        "\n",
        "\n",
        "for batch in dataloader_val:\n",
        "    X, y = batch\n",
        "\n",
        "    y_pred_1 = model(X).argmax(1)\n",
        "    y_pred_2 = model_updated(X).argmax(1)\n",
        "    y_pred_3 = model_updated2(X).argmax(1)\n",
        "    y_pred_4 = model_updated3(X).argmax(1)\n",
        "    y_pred_5 = model_updated4(X).argmax(1)\n",
        "\n",
        "    bal_accuracy_1(y_pred_1, y)\n",
        "    bal_accuracy_2(y_pred_2, y)\n",
        "    bal_accuracy_3(y_pred_3, y)\n",
        "    bal_accuracy_4(y_pred_4, y)\n",
        "    bal_accuracy_5(y_pred_5, y)\n",
        "\n",
        "print(f\"Exactitude équilibrée sur le jeu de validation\\n{'-' * 46}\")\n",
        "print(f\"Modèle initial = {bal_accuracy_1.compute().item():.2%}\")\n",
        "print(f\"Nouveau modèle 1 = {bal_accuracy_2.compute().item():.2%}\")\n",
        "print(f\"Nouveau modèle 2 = {bal_accuracy_3.compute().item():.2%}\")\n",
        "print(f\"Nouveau modèle 3 = {bal_accuracy_4.compute().item():.2%}\")\n",
        "print(f\"Nouveau modèle 4 = {bal_accuracy_5.compute().item():.2%}\")"
      ],
      "metadata": {
        "id": "Zidolay-dNPz"
      },
      "execution_count": null,
      "outputs": []
    },
    {
      "cell_type": "code",
      "source": [
        "trainer.test(model, dataloader_test)"
      ],
      "metadata": {
        "id": "58FhxCsDeFdO"
      },
      "execution_count": null,
      "outputs": []
    },
    {
      "cell_type": "code",
      "source": [
        "trainer_updated.test(model_updated, dataloader_test)"
      ],
      "metadata": {
        "id": "f3v3tvNMeSFQ"
      },
      "execution_count": null,
      "outputs": []
    },
    {
      "cell_type": "code",
      "source": [
        "trainer_updated2.test(model_updated2, dataloader_test)"
      ],
      "metadata": {
        "id": "tQy3SVDDeXHG"
      },
      "execution_count": null,
      "outputs": []
    },
    {
      "cell_type": "code",
      "source": [
        "trainer_updated3.test(model_updated3, dataloader_test)"
      ],
      "metadata": {
        "id": "MzvrvYqEeZQV"
      },
      "execution_count": null,
      "outputs": []
    },
    {
      "cell_type": "code",
      "source": [
        "trainer_updated4.test(model_updated4, dataloader_test)"
      ],
      "metadata": {
        "id": "bwSUIgfXebi8"
      },
      "execution_count": null,
      "outputs": []
    },
    {
      "cell_type": "code",
      "source": [
        "bal_accuracy_1 = Accuracy(task=\"multiclass\", average='macro', num_classes=7)\n",
        "bal_accuracy_2 = Accuracy(task=\"multiclass\", average='macro', num_classes=7)\n",
        "bal_accuracy_3 = Accuracy(task=\"multiclass\", average='macro', num_classes=7)\n",
        "bal_accuracy_4 = Accuracy(task=\"multiclass\", average='macro', num_classes=7)\n",
        "bal_accuracy_5 = Accuracy(task=\"multiclass\", average='macro', num_classes=7)\n",
        "\n",
        "\n",
        "for batch in dataloader_test:\n",
        "    X, y = batch\n",
        "\n",
        "    y_pred_1 = model(X).argmax(1)\n",
        "    y_pred_2 = model_updated(X).argmax(1)\n",
        "    y_pred_3 = model_updated2(X).argmax(1)\n",
        "    y_pred_4 = model_updated3(X).argmax(1)\n",
        "    y_pred_5 = model_updated4(X).argmax(1)\n",
        "\n",
        "    bal_accuracy_1(y_pred_1, y)\n",
        "    bal_accuracy_2(y_pred_2, y)\n",
        "    bal_accuracy_3(y_pred_3, y)\n",
        "    bal_accuracy_4(y_pred_4, y)\n",
        "    bal_accuracy_5(y_pred_5, y)\n",
        "\n",
        "print(f\"Exactitude équilibrée sur le jeu de validation\\n{'-' * 46}\")\n",
        "print(f\"Modèle initial = {bal_accuracy_1.compute().item():.2%}\")\n",
        "print(f\"Nouveau modèle 1 = {bal_accuracy_2.compute().item():.2%}\")\n",
        "print(f\"Nouveau modèle 2 = {bal_accuracy_3.compute().item():.2%}\")\n",
        "print(f\"Nouveau modèle 3 = {bal_accuracy_4.compute().item():.2%}\")\n",
        "print(f\"Nouveau modèle 4 = {bal_accuracy_5.compute().item():.2%}\")"
      ],
      "metadata": {
        "id": "TiJZyNjoe01L"
      },
      "execution_count": null,
      "outputs": []
    }
  ],
  "metadata": {
    "kernelspec": {
      "display_name": "Python 3",
      "name": "python3"
    },
    "language_info": {
      "codemirror_mode": {
        "name": "ipython",
        "version": 3
      },
      "file_extension": ".py",
      "mimetype": "text/x-python",
      "name": "python",
      "nbconvert_exporter": "python",
      "pygments_lexer": "ipython3",
      "version": "3.12.7"
    },
    "colab": {
      "provenance": [],
      "gpuType": "T4"
    },
    "accelerator": "GPU"
  },
  "nbformat": 4,
  "nbformat_minor": 0
}